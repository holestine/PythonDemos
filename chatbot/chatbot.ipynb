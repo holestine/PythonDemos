{
 "cells": [
  {
   "cell_type": "markdown",
   "metadata": {},
   "source": [
    "# Chatbot Demo\n",
    "This notebook shows how to fine tune and use the LLM in [customizable_chatbot.py](./customizable_chatbot.py)."
   ]
  },
  {
   "cell_type": "markdown",
   "metadata": {},
   "source": [
    "## Setup\n",
    "Run the following commands once to setup the environment.\n"
   ]
  },
  {
   "cell_type": "code",
   "execution_count": 1,
   "metadata": {},
   "outputs": [],
   "source": [
    "# !pip install -r ../requirements.txt\n",
    "# !playwright install"
   ]
  },
  {
   "cell_type": "markdown",
   "metadata": {},
   "source": [
    "## Import Necessary Resources"
   ]
  },
  {
   "cell_type": "code",
   "execution_count": 1,
   "metadata": {},
   "outputs": [],
   "source": [
    "from customizable_chatbot import ChatBot, FRAUD_PROMPT"
   ]
  },
  {
   "cell_type": "markdown",
   "metadata": {},
   "source": [
    "## Create Data to Fine Tune LLM\n",
    "ChatGPT and similar LLMs are trained on a very large corpus of data to enable basic knowledge in many domains. Generally their knowledge can be augmented with more current or more detailed data to extend their capabilities into other areas of expertise. The script [extract_training_data.py](./extract_training_data.py) collects data from a set of pre-specified web pages and local PDFs in order to create the data needed to do this then puts the text in the file [data.txt](./data.txt)."
   ]
  },
  {
   "cell_type": "code",
   "execution_count": null,
   "metadata": {},
   "outputs": [],
   "source": [
    "!python extract_training_data.py"
   ]
  },
  {
   "cell_type": "markdown",
   "metadata": {},
   "source": [
    "# Initialize LLMs\n",
    "Create two chatbots, one using the base LLM and the other fine tuned."
   ]
  },
  {
   "cell_type": "code",
   "execution_count": 4,
   "metadata": {},
   "outputs": [
    {
     "name": "stdout",
     "output_type": "stream",
     "text": [
      "You are to act as a financial fraud detection expert. Use the following data for additional context to help answer questions. Ask for more information if needed. If you don't know the answer, say that you don't know. Keep answers concise using a maximum of three sentences including a conclusion.\n",
      "What are the best ways to detect financial fraud?\n"
     ]
    }
   ],
   "source": [
    "system_prompt = FRAUD_PROMPT['system']\n",
    "human_prompt  = FRAUD_PROMPT['human']\n",
    "\n",
    "print(system_prompt)\n",
    "print(human_prompt)\n",
    "\n",
    "llm_init_params = {\n",
    "    \"system_prompt\": system_prompt, \n",
    "    \"additional_data_file\": \"data.txt\"\n",
    "}\n",
    "\n",
    "chatbot_basic      = ChatBot()\n",
    "chatbot_fine_tuned = ChatBot(llm_init_params=llm_init_params)"
   ]
  },
  {
   "cell_type": "markdown",
   "metadata": {},
   "source": [
    "## Start Conversation\n",
    "Take a look at the responses from the base and fine tuned model"
   ]
  },
  {
   "cell_type": "code",
   "execution_count": 7,
   "metadata": {},
   "outputs": [
    {
     "name": "stdout",
     "output_type": "stream",
     "text": [
      "Detecting financial fraud effectively requires a combination of advanced technology, robust processes, and human expertise. Below are some of the best practices and methods to identify financial fraud:\n",
      "\n",
      "---\n",
      "\n",
      "### **1. Leverage Technology for Fraud Detection**\n",
      "- **Artificial Intelligence (AI) and Machine Learning (ML):**\n",
      "  - Use AI/ML models to analyze large datasets and detect anomalies or unusual patterns in transactions.\n",
      "  - Train models on historical fraud data to predict and flag suspicious activities in real-time.\n",
      "- **Data Analytics:**\n",
      "  - Perform advanced data analysis to identify irregularities, such as duplicate payments, unusual transaction amounts, or deviations from normal patterns.\n",
      "- **Fraud Detection Software:**\n",
      "  - Implement specialized tools like FICO Falcon, SAS Fraud Management, or NICE Actimize to monitor and detect fraudulent activities.\n",
      "- **Blockchain Technology:**\n",
      "  - Use blockchain for secure, transparent, and tamper-proof transaction records, reducing the risk of manipulation.\n",
      "\n",
      "---\n",
      "\n",
      "### **2. Monitor Transactions in Real-Time**\n",
      "- **Set Alerts and Thresholds:**\n",
      "  - Configure systems to flag transactions that exceed predefined thresholds or occur in high-risk regions.\n",
      "- **Behavioral Analysis:**\n",
      "  - Monitor customer behavior to detect deviations, such as sudden large withdrawals, frequent small transactions, or changes in login locations.\n",
      "- **Geolocation Tracking:**\n",
      "  - Use geolocation data to verify that transactions align with the user’s typical location and behavior.\n",
      "\n",
      "---\n",
      "\n",
      "### **3. Implement Strong Internal Controls**\n",
      "- **Segregation of Duties:**\n",
      "  - Divide responsibilities for initiating, approving, and recording transactions to reduce the risk of internal fraud.\n",
      "- **Access Controls:**\n",
      "  - Restrict access to sensitive financial systems and data to authorized personnel only.\n",
      "- **Regular Audits:**\n",
      "  - Conduct routine internal and external audits to identify discrepancies or suspicious activities.\n",
      "\n",
      "---\n",
      "\n",
      "### **4. Conduct Fraud Risk Assessments**\n",
      "- **Fraud Risk Assessment:**\n",
      "  - Periodically evaluate the organization’s exposure to fraud risks and update controls accordingly.\n",
      "- **Scenario Testing:**\n",
      "  - Simulate fraud scenarios to test the effectiveness of detection and response mechanisms.\n",
      "\n",
      "---\n",
      "\n",
      "### **5. Use Data Enrichment and Cross-Referencing**\n",
      "- **Third-Party Data Sources:**\n",
      "  - Cross-check customer information with external databases, such as credit bureaus, government records, or watchlists.\n",
      "- **Know Your Customer (KYC):**\n",
      "  - Verify customer identities and assess their risk profiles during onboarding and periodically thereafter.\n",
      "\n",
      "---\n",
      "\n",
      "### **6. Automate Reconciliation Processes**\n",
      "- **Automated Reconciliation:**\n",
      "  - Use software to reconcile financial records and flag discrepancies, such as mismatched invoices or unauthorized transactions.\n",
      "\n",
      "---\n",
      "\n",
      "### **7. Educate and Train Employees**\n",
      "- **Fraud Awareness Training:**\n",
      "  - Train employees to recognize red flags, such as phishing attempts, fake invoices, or unusual vendor requests.\n",
      "- **Whistleblower Programs:**\n",
      "  - Encourage employees to report suspicious activities anonymously.\n",
      "\n",
      "---\n",
      "\n",
      "### **8. Monitor for Insider Threats**\n",
      "- **Employee Behavior Monitoring:**\n",
      "  - Watch for signs of internal fraud, such as employees living beyond their means or accessing systems outside of normal hours.\n",
      "- **Access Logs:**\n",
      "  - Regularly review access logs to ensure employees are not misusing their privileges.\n",
      "\n",
      "---\n",
      "\n",
      "### **9. Collaborate with Industry Peers**\n",
      "- **Fraud Information Sharing:**\n",
      "  - Join industry groups or networks to share intelligence on emerging fraud trends and tactics.\n",
      "- **Regulatory Compliance:**\n",
      "  - Stay updated on anti-fraud regulations, such as AML (Anti-Money Laundering) and CFT (Countering the Financing of Terrorism) requirements.\n",
      "\n",
      "---\n",
      "\n",
      "### **10. Use Multi-Factor Authentication (MFA)**\n",
      "- **Strengthen Security:**\n",
      "  - Require multiple forms of verification (e.g., passwords, biometrics, OTPs) to prevent unauthorized access to accounts.\n",
      "\n",
      "---\n",
      "\n",
      "### **11. Monitor Social Media and Dark Web**\n",
      "- **Threat Intelligence:**\n",
      "  - Use tools to monitor social media and dark web forums for stolen credentials, leaked data, or discussions about potential fraud schemes.\n",
      "\n",
      "---\n",
      "\n",
      "### **12. Analyze Historical Fraud Cases**\n",
      "- **Post-Mortem Analysis:**\n",
      "  - Review past fraud incidents to identify vulnerabilities and improve detection mechanisms.\n",
      "- **Fraud Typology:**\n",
      "  - Understand common fraud schemes, such as phishing, account takeovers, money laundering, or insider fraud.\n",
      "\n",
      "---\n",
      "\n",
      "### **13. Continuous Monitoring and Proactive Measures**\n",
      "- **24/7 Monitoring:**\n",
      "  - Implement systems that continuously monitor transactions and flag suspicious activities in real-time.\n",
      "- **Fraud Prevention Policies:**\n",
      "  - Develop and enforce policies to deter fraudulent behavior, such as zero-tolerance policies and strict penalties.\n",
      "\n",
      "---\n",
      "\n",
      "### **14. Leverage Biometrics**\n",
      "- **Biometric Authentication:**\n",
      "  - Use fingerprint, facial recognition, or voice authentication to verify user identities and prevent account takeovers.\n",
      "\n",
      "---\n",
      "\n",
      "### **15. Stay Updated on Emerging Fraud Trends**\n",
      "- **Fraud Trend Analysis:**\n",
      "  - Regularly review reports and studies on new fraud tactics and techniques.\n",
      "- **Cybersecurity Integration:**\n",
      "  - Ensure fraud detection systems are integrated with cybersecurity measures to address digital threats.\n",
      "\n",
      "---\n",
      "\n",
      "By combining these strategies, organizations can build a comprehensive fraud detection framework that minimizes financial losses, protects stakeholders, and ensures compliance with regulatory requirements.\n"
     ]
    }
   ],
   "source": [
    "basic_response = chatbot_basic.get_response(human_prompt)\n",
    "print(basic_response)"
   ]
  },
  {
   "cell_type": "code",
   "execution_count": 6,
   "metadata": {},
   "outputs": [
    {
     "name": "stdout",
     "output_type": "stream",
     "text": [
      "The best ways to detect financial fraud include:\n",
      "\n",
      "1. **Advanced Technologies**: Utilize Artificial Intelligence (AI), Machine Learning (ML), and data analytics to identify anomalies, patterns, and suspicious activities in real-time. These tools can adapt to evolving fraud tactics and reduce false positives.\n",
      "\n",
      "2. **Behavioral Analytics**: Monitor user behavior to establish baselines and detect deviations, such as unusual transaction amounts, locations, or times, which may indicate fraud.\n",
      "\n",
      "3. **Real-Time Monitoring**: Implement continuous transaction monitoring systems to flag suspicious activities immediately, enabling swift intervention to prevent losses.\n",
      "\n",
      "Combining these methods with robust internal controls, employee training, and regular audits ensures a comprehensive fraud detection strategy.\n"
     ]
    }
   ],
   "source": [
    "fine_tuned_response = chatbot_fine_tuned.get_response(human_prompt)\n",
    "print(fine_tuned_response)"
   ]
  }
 ],
 "metadata": {
  "kernelspec": {
   "display_name": "demo",
   "language": "python",
   "name": "python3"
  },
  "language_info": {
   "codemirror_mode": {
    "name": "ipython",
    "version": 3
   },
   "file_extension": ".py",
   "mimetype": "text/x-python",
   "name": "python",
   "nbconvert_exporter": "python",
   "pygments_lexer": "ipython3",
   "version": "3.12.7"
  }
 },
 "nbformat": 4,
 "nbformat_minor": 4
}
