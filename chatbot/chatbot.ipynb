{
 "cells": [
  {
   "cell_type": "markdown",
   "metadata": {},
   "source": [
    "# Chatbot Demo\n",
    "This notebook shows how to fine tune and use the LLM in [customizable_chatbot.py](./customizable_chatbot.py)."
   ]
  },
  {
   "cell_type": "markdown",
   "metadata": {},
   "source": [
    "## Setup\n",
    "Run the following commands once to setup the environment.\n"
   ]
  },
  {
   "cell_type": "code",
   "execution_count": 1,
   "metadata": {},
   "outputs": [],
   "source": [
    "#!pip install -r ../requirements.txt\n",
    "#!playwright install"
   ]
  },
  {
   "cell_type": "markdown",
   "metadata": {},
   "source": [
    "## Import Necessary Resources"
   ]
  },
  {
   "cell_type": "code",
   "execution_count": 2,
   "metadata": {},
   "outputs": [],
   "source": [
    "from customizable_chatbot import ChatBot, FRAUD_PROMPT"
   ]
  },
  {
   "cell_type": "markdown",
   "metadata": {},
   "source": [
    "## Create Data to Fine Tune LLM\n",
    "ChatGPT and similar LLMs are trained on a very large corpus of data to enable basic knowledge in many domains. Generally their knowledge can be augmented with more current or more detailed data to extend their capabilities into other areas of expertise. The script [extract_training_data.py](./extract_training_data.py) collects data from a set of pre-specified web pages and local PDFs in order to create the data needed to do this then puts the text in the file [data.txt](./data.txt)."
   ]
  },
  {
   "cell_type": "code",
   "execution_count": 3,
   "metadata": {},
   "outputs": [],
   "source": [
    "!python extract_training_data.py"
   ]
  },
  {
   "cell_type": "markdown",
   "metadata": {},
   "source": [
    "# Initialize LLMs\n",
    "Create two chatbots, one using the base LLM and the other fine tuned."
   ]
  },
  {
   "cell_type": "code",
   "execution_count": 4,
   "metadata": {},
   "outputs": [
    {
     "name": "stdout",
     "output_type": "stream",
     "text": [
      "You are to act as a financial fraud detection expert. Use the following data for additional context to help answer questions. Ask for more information if needed. If you don't know the answer, say that you don't know. Keep answers concise using a maximum of three sentences.\n",
      "What are the best ways to detect financial fraud?\n"
     ]
    }
   ],
   "source": [
    "system_prompt = FRAUD_PROMPT['system']\n",
    "human_prompt  = FRAUD_PROMPT['human']\n",
    "\n",
    "print(system_prompt)\n",
    "print(human_prompt)\n",
    "\n",
    "llm_init_params = {\n",
    "    \"system_prompt\": system_prompt, \n",
    "    \"additional_data_file\": \"data.txt\"\n",
    "}\n",
    "\n",
    "chatbot_basic      = ChatBot()\n",
    "chatbot_fine_tuned = ChatBot(llm_init_params=llm_init_params)"
   ]
  },
  {
   "cell_type": "markdown",
   "metadata": {},
   "source": [
    "## Start Conversation\n",
    "Take a look at the responses from the base and fine tuned model"
   ]
  },
  {
   "cell_type": "code",
   "execution_count": 5,
   "metadata": {},
   "outputs": [
    {
     "name": "stdout",
     "output_type": "stream",
     "text": [
      "Detecting financial fraud involves a combination of data analysis, technology, internal controls, and human oversight. Here are some of the best and most effective ways to detect financial fraud:\n",
      "\n",
      "### 1. **Data Analytics and Monitoring**\n",
      "- **Anomaly Detection**: Use statistical models and machine learning to identify unusual patterns or outliers in financial transactions.\n",
      "- **Trend Analysis**: Compare current financial data with historical trends to spot inconsistencies.\n",
      "- **Benford’s Law**: Apply this mathematical principle to detect irregularities in numerical data.\n",
      "\n",
      "### 2. **Machine Learning and Artificial Intelligence**\n",
      "- **Predictive Modeling**: Train models on historical fraud data to predict and flag potentially fraudulent transactions.\n",
      "- **Natural Language Processing (NLP)**: Analyze unstructured data such as emails or documents for signs of fraud.\n",
      "- **Real-Time Monitoring**: Use AI to monitor transactions in real time and flag suspicious activity instantly.\n",
      "\n",
      "### 3. **Internal Controls and Audits**\n",
      "- **Segregation of Duties**: Ensure that no single employee has control over all aspects of a financial transaction.\n",
      "- **Regular Audits**: Conduct both internal and external audits to review financial records and processes.\n",
      "- **Reconciliation Procedures**: Regularly reconcile bank statements, ledgers, and other financial records.\n",
      "\n",
      "### 4. **Behavioral Analytics**\n",
      "- Monitor employee behavior for signs of fraud, such as:\n",
      "  - Sudden lifestyle changes\n",
      "  - Reluctance to take vacations\n",
      "  - Excessive control over financial processes\n",
      "\n",
      "### 5. **Whistleblower Programs**\n",
      "- Encourage employees to report suspicious activity through anonymous reporting channels.\n",
      "- Protect whistleblowers from retaliation to foster a culture of transparency.\n",
      "\n",
      "### 6. **Know Your Customer (KYC) and Due Diligence**\n",
      "- Verify the identity of clients and partners to prevent identity theft and money laundering.\n",
      "- Conduct background checks and ongoing monitoring of high-risk clients.\n",
      "\n",
      "### 7. **Use of Forensic Accounting**\n",
      "- Employ forensic accountants to investigate complex financial discrepancies and trace fraudulent transactions.\n",
      "\n",
      "### 8. **Red Flag Indicators**\n",
      "- Watch for common red flags such as:\n",
      "  - Inconsistent or missing documentation\n",
      "  - Unusual journal entries\n",
      "  - Rapid movement of funds between accounts\n",
      "  - Transactions just below approval thresholds\n",
      "\n",
      "### 9. **Compliance and Regulatory Tools**\n",
      "- Use compliance software to ensure adherence to financial regulations (e.g., AML, SOX, GDPR).\n",
      "- Monitor for violations of internal policies and external regulations.\n",
      "\n",
      "### 10. **Employee Training and Awareness**\n",
      "- Educate employees on how to recognize and report fraud.\n",
      "- Conduct regular training on fraud prevention and detection techniques.\n",
      "\n",
      "### Conclusion\n",
      "The most effective fraud detection strategies combine technology, analytics, and human judgment. A proactive, layered approach that includes real-time monitoring, strong internal controls, and a culture of integrity is key to minimizing financial fraud risk.\n"
     ]
    }
   ],
   "source": [
    "basic_response = chatbot_basic.get_response(human_prompt)\n",
    "print(basic_response)"
   ]
  },
  {
   "cell_type": "code",
   "execution_count": 7,
   "metadata": {},
   "outputs": [
    {
     "name": "stdout",
     "output_type": "stream",
     "text": [
      "The best ways to detect financial fraud include:\n",
      "\n",
      "1. **Machine Learning & AI**: These technologies analyze large datasets to detect anomalies and evolving fraud patterns in real time.\n",
      "2. **Data Analytics**: Statistical techniques like regression analysis, clustering, and anomaly detection help identify suspicious trends and behaviors.\n",
      "3. **Real-Time Transaction Monitoring**: Continuously scans transactions to flag unusual activity immediately.\n",
      "4. **Behavioral Analytics**: Establishes user behavior baselines to detect deviations that may indicate fraud.\n",
      "5. **Internal Controls & Audits**: Regular audits and segregation of duties help uncover and prevent internal fraud.\n",
      "\n",
      "Combining these methods enhances detection accuracy and reduces false positives.\n"
     ]
    }
   ],
   "source": [
    "fine_tuned_response = chatbot_fine_tuned.get_response(human_prompt)\n",
    "print(fine_tuned_response)"
   ]
  }
 ],
 "metadata": {
  "kernelspec": {
   "display_name": "demo",
   "language": "python",
   "name": "python3"
  },
  "language_info": {
   "codemirror_mode": {
    "name": "ipython",
    "version": 3
   },
   "file_extension": ".py",
   "mimetype": "text/x-python",
   "name": "python",
   "nbconvert_exporter": "python",
   "pygments_lexer": "ipython3",
   "version": "3.12.11"
  }
 },
 "nbformat": 4,
 "nbformat_minor": 4
}
